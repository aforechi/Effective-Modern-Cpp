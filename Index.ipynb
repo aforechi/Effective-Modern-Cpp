{
 "cells": [
  {
   "cell_type": "markdown",
   "metadata": {},
   "source": [
    "# Code Samples of Effective Modern C++ book by Scott Meyers \n",
    "\n",
    "- Chapter 1. Deducing Types\n",
    "\n",
    "    - [Item 1: Understand template type deduction](Item01_Understand_template_type_deduction.ipynb)\n",
    "    - [Item 2: Understand auto type deduction](Item02_Understand_auto_type_deduction.ipynb)\n",
    "    - [Item 3: Understand decltype](Item03_Understand_decltype.ipynb)\n",
    "    - [Item 4:](Item03_.ipynb)\n",
    "    - [Item 5:](Item03_.ipynb)\n",
    "    - [Item 6:](Item03_.ipynb)\n",
    "    - [Item 7:](Item03_.ipynb)\n",
    "    - [Item 8:](Item03_.ipynb)\n",
    "    - [Item 9:](Item03_.ipynb)\n",
    "    - [Item 10:](Item03_.ipynb)\n",
    "    - [Item 11:](Item03_.ipynb)\n",
    "    - [Item 12:](Item03_.ipynb)\n",
    "    - [Item 13:](Item03_.ipynb)\n",
    "    - [Item 14:](Item03_.ipynb)\n",
    "    - [Item 15:](Item03_.ipynb)\n",
    "    - [Item 16:](Item03_.ipynb)\n",
    "    - [Item 17:](Item03_.ipynb)\n",
    "    - [Item 18:](Item03_.ipynb)\n",
    "    - [Item 19:](Item03_.ipynb)\n",
    "    - [Item 20:](Item03_.ipynb)\n",
    "    - [Item 21:](Item03_.ipynb)\n",
    "    - [Item 22:](Item03_.ipynb)\n",
    "    - [Item 23:](Item03_.ipynb)\n",
    "    - [Item 24:](Item03_.ipynb)\n",
    "    - [Item 25:](Item03_.ipynb)\n",
    "    - [Item 26:](Item03_.ipynb)\n",
    "    - [Item 27:](Item03_.ipynb)\n",
    "    - [Item 28:](Item03_.ipynb)\n",
    "    - [Item 29:](Item03_.ipynb)\n",
    "    - [Item 30:](Item03_.ipynb)\n",
    "    - [Item 31:](Item03_.ipynb)\n",
    "    - [Item 32:](Item03_.ipynb)\n",
    "    - [Item 33:](Item03_.ipynb)\n",
    "    - [Item 34:](Item03_.ipynb)\n",
    "    - [Item 35:](Item03_.ipynb)\n",
    "    - [Item 36:](Item03_.ipynb)\n",
    "    - [Item 37:](Item03_.ipynb)\n",
    "    - [Item 38:](Item03_.ipynb)"
   ]
  },
  {
   "cell_type": "code",
   "execution_count": null,
   "metadata": {},
   "outputs": [],
   "source": []
  }
 ],
 "metadata": {
  "kernelspec": {
   "display_name": "C++14",
   "language": "C++14",
   "name": "xcpp14"
  },
  "language_info": {
   "codemirror_mode": "text/x-c++src",
   "file_extension": ".cpp",
   "mimetype": "text/x-c++src",
   "name": "c++",
   "version": "14"
  }
 },
 "nbformat": 4,
 "nbformat_minor": 4
}
