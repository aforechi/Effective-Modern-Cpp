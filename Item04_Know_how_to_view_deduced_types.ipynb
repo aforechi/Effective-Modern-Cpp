{
 "cells": [
  {
   "cell_type": "markdown",
   "metadata": {},
   "source": [
    "# Item 4: Know how to view deduced types."
   ]
  },
  {
   "cell_type": "markdown",
   "metadata": {},
   "source": [
    "##  Key idea:\n",
    " \n",
    "    Code editors in IDEs often show the types of program entities (e.g.\n",
    "    variables, parameters, functions, etc.) when you do something like hover\n",
    "    your cursor over the entity.\n"
   ]
  },
  {
   "cell_type": "code",
   "execution_count": 3,
   "metadata": {},
   "outputs": [],
   "source": [
    "#include <iostream>\n",
    "#include <boost/type_index.hpp>\n",
    "using boost::typeindex::type_id_with_cvr;"
   ]
  },
  {
   "cell_type": "code",
   "execution_count": 7,
   "metadata": {},
   "outputs": [
    {
     "name": "stdout",
     "output_type": "stream",
     "text": [
      "int\n",
      "int const*\n"
     ]
    }
   ],
   "source": [
    "{\n",
    "    const int theAnswer = 42;\n",
    "\n",
    "    auto x = theAnswer;\n",
    "    auto y = &theAnswer;\n",
    "    \n",
    "    std::cout << type_id_with_cvr<decltype(x)>().pretty_name() << '\\n';\n",
    "    std::cout << type_id_with_cvr<decltype(y)>().pretty_name() << '\\n';\n",
    "}"
   ]
  },
  {
   "cell_type": "markdown",
   "metadata": {},
   "source": [
    "## Key idea:\n",
    " \n",
    "    An effective way to get a compiler to show a type it has deduced is to use\n",
    "    that type in a way that leads to compilation problems.  The error message\n",
    "    reporting the problem is virtually sure to mention the type that's causing\n",
    "    it."
   ]
  },
  {
   "cell_type": "code",
   "execution_count": 9,
   "metadata": {},
   "outputs": [],
   "source": [
    "template<typename T>  // declaration only for TD;\n",
    "class TD;             // TD = \"Type Displayer\""
   ]
  },
  {
   "cell_type": "code",
   "execution_count": 10,
   "metadata": {},
   "outputs": [
    {
     "name": "stderr",
     "output_type": "stream",
     "text": [
      "\u001b[1minput_line_18:6:21: \u001b[0m\u001b[0;1;31merror: \u001b[0m\u001b[1mimplicit instantiation of undefined template 'TD<int>'\u001b[0m\n",
      "    TD<decltype(x)> xType;  // elicit errors containing\n",
      "\u001b[0;1;32m                    ^\n",
      "\u001b[0m\u001b[1minput_line_17:2:7: \u001b[0m\u001b[0;1;30mnote: \u001b[0mtemplate is declared here\u001b[0m\n",
      "class TD;             // TD = \"Type Displayer\"\n",
      "\u001b[0;1;32m      ^\n",
      "\u001b[0m\u001b[1minput_line_18:7:21: \u001b[0m\u001b[0;1;31merror: \u001b[0m\u001b[1mimplicit instantiation of undefined template 'TD<const int *>'\u001b[0m\n",
      "    TD<decltype(y)> yType;  // x's and y's types\n",
      "\u001b[0;1;32m                    ^\n",
      "\u001b[0m\u001b[1minput_line_17:2:7: \u001b[0m\u001b[0;1;30mnote: \u001b[0mtemplate is declared here\u001b[0m\n",
      "class TD;             // TD = \"Type Displayer\"\n",
      "\u001b[0;1;32m      ^\n",
      "\u001b[0m"
     ]
    },
    {
     "ename": "Interpreter Error",
     "evalue": "",
     "output_type": "error",
     "traceback": [
      "Interpreter Error: "
     ]
    }
   ],
   "source": [
    "{\n",
    "    const int theAnswer = 42;\n",
    "\n",
    "    auto x = theAnswer;\n",
    "    auto y = &theAnswer;\n",
    "\n",
    "    TD<decltype(x)> xType;  // elicit errors containing\n",
    "    TD<decltype(y)> yType;  // x's and y's types\n",
    "}"
   ]
  },
  {
   "cell_type": "markdown",
   "metadata": {},
   "source": [
    "## Key idea:\n",
    " \n",
    "    Calls to std::type_info::name are not guaranteed to return anything\n",
    "    sensible, but implementations try to be helpful.  The level of helpfullnes\n",
    "    varies.\n"
   ]
  },
  {
   "cell_type": "code",
   "execution_count": 11,
   "metadata": {},
   "outputs": [
    {
     "name": "stdout",
     "output_type": "stream",
     "text": [
      "i\n",
      "PKi\n"
     ]
    }
   ],
   "source": [
    "#include <iostream>\n",
    "#include <typeinfo>\n",
    "\n",
    "{\n",
    "    const int theAnswer = 42;\n",
    "\n",
    "    auto x = theAnswer;\n",
    "    auto y = &theAnswer;\n",
    "\n",
    "    std::cout << typeid(x).name() << '\\n';   // display types for\n",
    "    std::cout << typeid(y).name() << '\\n';   // x and y\n",
    "}"
   ]
  },
  {
   "cell_type": "markdown",
   "metadata": {},
   "source": [
    "## Key idea:\n",
    " \n",
    "    The results of std::type_info::name are not reliable.\n",
    "    Compiler diagnostics are a more dependable source of information about the\n",
    "    results of type deduction."
   ]
  },
  {
   "cell_type": "code",
   "execution_count": 12,
   "metadata": {},
   "outputs": [],
   "source": [
    "#include <iostream>\n",
    "#include <typeinfo>\n",
    "#include <vector>\n",
    "\n",
    "class Widget {};"
   ]
  },
  {
   "cell_type": "code",
   "execution_count": 13,
   "metadata": {},
   "outputs": [],
   "source": [
    "template<typename T>                // template function to\n",
    "void f(const T& param)              // be called\n",
    "{\n",
    "  using std::cout;\n",
    "  cout << \"T =     \" << typeid(T).name() << '\\n';     // show T\n",
    "  cout << \"param = \" << typeid(param).name() << '\\n'; // show\n",
    "                                                      // param's\n",
    "                                                      // type\n",
    "\n",
    "  TD<T> TType;                    // elicit errors containing\n",
    "  TD<decltype(param)> paramType;  // T's and param's types\n",
    "}"
   ]
  },
  {
   "cell_type": "code",
   "execution_count": 14,
   "metadata": {},
   "outputs": [],
   "source": [
    "std::vector<Widget> createVec()    // factory function\n",
    "{\n",
    "    std::vector<Widget> vw;\n",
    "    Widget w;\n",
    "    vw.push_back(w);\n",
    "    return vw;\n",
    "}"
   ]
  },
  {
   "cell_type": "code",
   "execution_count": 15,
   "metadata": {},
   "outputs": [
    {
     "name": "stderr",
     "output_type": "stream",
     "text": [
      "\u001b[1minput_line_23:9:9: \u001b[0m\u001b[0;1;31merror: \u001b[0m\u001b[1mimplicit instantiation of undefined template 'TD<const Widget *>'\u001b[0m\n",
      "  TD<T> TType;                    // elicit errors containing\n",
      "\u001b[0;1;32m        ^\n",
      "\u001b[0m\u001b[1minput_line_25:7:7: \u001b[0m\u001b[0;1;30mnote: \u001b[0min instantiation of function template specialization 'f<const Widget *>' requested here\u001b[0m\n",
      "      f(&vw[0]);                        // call f\n",
      "\u001b[0;1;32m      ^\n",
      "\u001b[0m\u001b[1minput_line_17:2:7: \u001b[0m\u001b[0;1;30mnote: \u001b[0mtemplate is declared here\u001b[0m\n",
      "class TD;             // TD = \"Type Displayer\"\n",
      "\u001b[0;1;32m      ^\n",
      "\u001b[0m\u001b[1minput_line_23:10:23: \u001b[0m\u001b[0;1;31merror: \u001b[0m\u001b[1mimplicit instantiation of undefined template 'TD<const Widget *const &>'\u001b[0m\n",
      "  TD<decltype(param)> paramType;  // T's and param's types\n",
      "\u001b[0;1;32m                      ^\n",
      "\u001b[0m\u001b[1minput_line_17:2:7: \u001b[0m\u001b[0;1;30mnote: \u001b[0mtemplate is declared here\u001b[0m\n",
      "class TD;             // TD = \"Type Displayer\"\n",
      "\u001b[0;1;32m      ^\n",
      "\u001b[0m"
     ]
    },
    {
     "ename": "Interpreter Error",
     "evalue": "",
     "output_type": "error",
     "traceback": [
      "Interpreter Error: "
     ]
    }
   ],
   "source": [
    "{\n",
    "    \n",
    "    const auto vw = createVec();        // init vw w/factory return\n",
    "    \n",
    "    if (!vw.empty()) {\n",
    "      f(&vw[0]);                        // call f\n",
    "      // ...\n",
    "    }\n",
    "}"
   ]
  },
  {
   "cell_type": "markdown",
   "metadata": {},
   "source": [
    "## Key idea:\n",
    " \n",
    "    It is possible to produce accurate type information using Boost.TypeIndex.\n"
   ]
  },
  {
   "cell_type": "code",
   "execution_count": 16,
   "metadata": {},
   "outputs": [],
   "source": [
    "#include <iostream>\n",
    "#include <typeinfo>\n",
    "#include <vector>\n",
    "\n",
    "template<typename T>\n",
    "void f1(const T& param)\n",
    "{\n",
    "  // show T\n",
    "  std::cout << \"T =     \"\n",
    "       << type_id_with_cvr<T>().pretty_name()\n",
    "       << '\\n';\n",
    "\n",
    "  // show param's type\n",
    "  std::cout << \"param = \"\n",
    "       << type_id_with_cvr<decltype(param)>().pretty_name()\n",
    "       << '\\n';\n",
    "}"
   ]
  },
  {
   "cell_type": "code",
   "execution_count": 17,
   "metadata": {},
   "outputs": [],
   "source": [
    "std::vector<Widget> createVec1()    // factory function\n",
    "{\n",
    "    std::vector<Widget> vw;\n",
    "    Widget w;\n",
    "    vw.push_back(w);\n",
    "    return vw;\n",
    "}"
   ]
  },
  {
   "cell_type": "code",
   "execution_count": 26,
   "metadata": {},
   "outputs": [
    {
     "name": "stdout",
     "output_type": "stream",
     "text": [
      "std::__1::vector<Widget, std::__1::allocator<Widget> >\n",
      "T =     Widget*\n",
      "param = Widget* const&\n"
     ]
    }
   ],
   "source": [
    "{\n",
    "\n",
    "    auto vw = createVec1();        // init vw w/factory return\n",
    "    std::cout << type_id_with_cvr<decltype(vw)>().pretty_name() << '\\n';\n",
    "    //if (!vw.empty()) {\n",
    "      f1(&vw[0]);                        // call f1\n",
    "      // ...\n",
    "    //}\n",
    "}"
   ]
  },
  {
   "cell_type": "markdown",
   "metadata": {},
   "source": [
    "                               Things to Remember\n",
    "                               ------------------\n",
    "\n",
    "* Deduced types can often be seen using IDE editors, compiler error messages,\n",
    "  and the Boost TypeIndex library.\n",
    "\n",
    "* The results of some tools may be neither helpful nor accurate, so an\n",
    "  understanding of C++'s type deduction rules remains essential.\n",
    "\n"
   ]
  },
  {
   "cell_type": "code",
   "execution_count": null,
   "metadata": {},
   "outputs": [],
   "source": []
  }
 ],
 "metadata": {
  "kernelspec": {
   "display_name": "C++14",
   "language": "C++14",
   "name": "xcpp14"
  },
  "language_info": {
   "codemirror_mode": "text/x-c++src",
   "file_extension": ".cpp",
   "mimetype": "text/x-c++src",
   "name": "c++",
   "version": "14"
  }
 },
 "nbformat": 4,
 "nbformat_minor": 4
}
