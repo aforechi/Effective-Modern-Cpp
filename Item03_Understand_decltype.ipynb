{
 "cells": [
  {
   "cell_type": "markdown",
   "metadata": {},
   "source": [
    "# Case 3: Understand decltype"
   ]
  },
  {
   "cell_type": "markdown",
   "metadata": {},
   "source": [
    "## Key idea:\n",
    " \n",
    "    decltype almost always parrots back the type of the name or expression you give it without any modification.\n",
    " "
   ]
  },
  {
   "cell_type": "code",
   "execution_count": 1,
   "metadata": {},
   "outputs": [],
   "source": [
    "#include <cstddef>\n",
    "#include <iostream>\n",
    "\n",
    "class Widget {};\n",
    "\n",
    "const int i = 0;           // decltype(i) is const int"
   ]
  },
  {
   "cell_type": "code",
   "execution_count": 2,
   "metadata": {},
   "outputs": [],
   "source": [
    "bool f(const Widget& w){return false;}   // decltype(w) is const Widget&\n",
    "                           // decltype(f) is bool(const Widget&)"
   ]
  },
  {
   "cell_type": "code",
   "execution_count": 3,
   "metadata": {},
   "outputs": [],
   "source": [
    "struct Point {\n",
    "  int x, y;                // decltype(Point::x) is int\n",
    "};                         // decltype(Point::y) is int\n",
    "\n",
    "Widget w;                  // decltype(w) is Widget"
   ]
  },
  {
   "cell_type": "code",
   "execution_count": 4,
   "metadata": {},
   "outputs": [],
   "source": [
    "template<typename T>       // simplified version of std::vector\n",
    "class vector {\n",
    "    T dummy[1];\n",
    "public:\n",
    "  // ...\n",
    "  T& operator[](std::size_t index){return dummy[index];}\n",
    "  // ...\n",
    "};"
   ]
  },
  {
   "cell_type": "code",
   "execution_count": 5,
   "metadata": {},
   "outputs": [],
   "source": [
    "{\n",
    "\n",
    "  if (f(w)) {}              // decltype(f(w)) is bool\n",
    "\n",
    "  vector<int> v;            // decltype(v) is vector<int>\n",
    "  // ...\n",
    "  if (v[0] == 0) {}         // decltype(v[0]) is int&\n",
    "\n",
    "}"
   ]
  },
  {
   "cell_type": "markdown",
   "metadata": {},
   "source": [
    " ## Key idea:\n",
    " \n",
    "    Example that shows how to use decltype to compute the return type.\n",
    "    Needs refinement though!\n"
   ]
  },
  {
   "cell_type": "code",
   "execution_count": 6,
   "metadata": {},
   "outputs": [],
   "source": [
    "void authenticateUser() {}"
   ]
  },
  {
   "cell_type": "code",
   "execution_count": 7,
   "metadata": {},
   "outputs": [],
   "source": [
    "template<typename Container, typename Index>  // works, but\n",
    "auto authAndAccess11(Container& c, Index i)     // requires\n",
    "  -> decltype(c[i])                           // refinement\n",
    "{\n",
    "  authenticateUser();\n",
    "  return c[i];\n",
    "}"
   ]
  },
  {
   "cell_type": "markdown",
   "metadata": {},
   "source": [
    "\n",
    "## Key idea:\n",
    " \n",
    "  This code attempts to assign 10 to an rvalue int, which is forbidden in C++,\n",
    "  so the code won't compile.\n"
   ]
  },
  {
   "cell_type": "code",
   "execution_count": 8,
   "metadata": {},
   "outputs": [],
   "source": [
    "#include <deque>\n",
    "\n",
    "{\n",
    "  std::deque<int> d;\n",
    "  \n",
    "  //authAndAccess11(d, 5) = 10;  // authenticate user, return d[5],\n",
    "                             // then assign 10 to it;\n",
    "                             // this won't compile!\n",
    "}"
   ]
  },
  {
   "cell_type": "markdown",
   "metadata": {},
   "source": [
    "\n",
    "## Key idea:\n",
    " \n",
    "    In C++14 we can omit the trailing return type, leaving just the leading\n",
    "    auto.  With that form of declaration, auto does mean that type deduction\n",
    "    will take place.  In particular, it means that compilers will deduce the\n",
    "    function's return type from the function's implementation.\n"
   ]
  },
  {
   "cell_type": "code",
   "execution_count": 9,
   "metadata": {},
   "outputs": [],
   "source": [
    "template<typename Container, typename Index>  // C++14 only, and\n",
    "auto authAndAccess14(Container& c, Index i)     // not quite\n",
    "                                              // correct\n",
    "{\n",
    "  authenticateUser();\n",
    "  return c[i];              // return type deduced from c[i]\n",
    "}"
   ]
  },
  {
   "cell_type": "markdown",
   "metadata": {},
   "source": [
    "\n",
    "## Key idea:\n",
    " \n",
    "  This code attempts to assign 10 to an rvalue int, which is forbidden in C++,\n",
    "  so the code won't compile.\n",
    " "
   ]
  },
  {
   "cell_type": "code",
   "execution_count": 10,
   "metadata": {},
   "outputs": [],
   "source": [
    "#include <deque>\n",
    "\n",
    "{\n",
    "  std::deque<int> d;\n",
    "  \n",
    "  //authAndAccess14(d, 5) = 10;  // authenticate user, return d[5],\n",
    "                             // then assign 10 to it;\n",
    "                             // this won't compile!\n",
    "}"
   ]
  },
  {
   "cell_type": "markdown",
   "metadata": {},
   "source": [
    "\n",
    "## Key idea:\n",
    " \n",
    "    Sometimes, one needs decltype type deduction rules in cases where types are\n",
    "    inferred.  C++14 makes this possible through the decltype(auto) specifier:\n",
    "    auto specifies that the type is to be deduced, and decltype says that\n",
    "    decltype rules should be used during the deduction.\n"
   ]
  },
  {
   "cell_type": "code",
   "execution_count": 11,
   "metadata": {},
   "outputs": [],
   "source": [
    "template<typename Container, typename Index>  // C++14 only;\n",
    "decltype(auto)                                // works, but\n",
    "authAndAccess(Container& c, Index i)          // still requires\n",
    "{                                             // refinement\n",
    "  authenticateUser();\n",
    "  return c[i];\n",
    "}"
   ]
  },
  {
   "cell_type": "markdown",
   "metadata": {},
   "source": [
    "\n",
    "## Key idea:\n",
    " \n",
    "    The use of decltype(auto) is not limited to function return types.  It can\n",
    "    also be convenient for declaring variables when you want to apply the\n",
    "    decltype type deduction rules to the initializing expression.\n"
   ]
  },
  {
   "cell_type": "code",
   "execution_count": 14,
   "metadata": {},
   "outputs": [],
   "source": [
    "//class Widget {};\n",
    "{\n",
    "Widget w;\n",
    "\n",
    "const Widget& cw = w;\n",
    "\n",
    "auto myWidget1 = cw;            // auto type deduction:\n",
    "                                // myWidget1's type is Widget\n",
    "\n",
    "decltype(auto) myWidget2 = cw;  // decltype type deduction:\n",
    "                                // myWidget2's type is\n",
    "                                //   const Widget&\n",
    "}"
   ]
  },
  {
   "cell_type": "markdown",
   "metadata": {},
   "source": [
    "\n",
    "## Key idea:\n",
    " \n",
    "    The C++11 version is almost the same as its C++14 counterpart, except that\n",
    "    you have to specify the return type yourself.\n",
    " "
   ]
  },
  {
   "cell_type": "code",
   "execution_count": 15,
   "metadata": {},
   "outputs": [],
   "source": [
    "#include <utility>\n",
    "\n",
    "template<typename Container, typename Index>            // final\n",
    "auto                                                    // C++11\n",
    "authAndAccess11Final(Container&& c, Index i)                   // version \n",
    "-> decltype(std::forward<Container>(c)[i])\n",
    "{\n",
    "  authenticateUser();\n",
    "  return std::forward<Container>(c)[i];\n",
    "}"
   ]
  },
  {
   "cell_type": "markdown",
   "metadata": {},
   "source": [
    "\n",
    "## Key idea:\n",
    " \n",
    "    Supporting to pass rvalue containers to this function means we need to\n",
    "    revise the declaration for c to accept both lvalues and rvalues, and that\n",
    "    means that c needs to be a universal reference.\n"
   ]
  },
  {
   "cell_type": "code",
   "execution_count": 16,
   "metadata": {},
   "outputs": [],
   "source": [
    "#include <utility>\n",
    "\n",
    "template<typename Container, typename Index>            // final\n",
    "decltype(auto)                                          // C++14\n",
    "authAndAccess14Final(Container&& c, Index i)                   // version \n",
    "{\n",
    "  authenticateUser();\n",
    "  return std::forward<Container>(c)[i];\n",
    "}"
   ]
  },
  {
   "cell_type": "markdown",
   "metadata": {},
   "source": [
    "\n",
    "## Key idea:\n",
    " \n",
    "    Supporting such use means we need to revise the declaration for c to accept\n",
    "    both lvalues and rvalues, and that means that c needs to be a universal\n",
    "    reference.\n",
    " "
   ]
  },
  {
   "cell_type": "code",
   "execution_count": null,
   "metadata": {},
   "outputs": [],
   "source": [
    "#include <string>\n",
    "#include <deque>\n",
    "\n",
    "std::deque<std::string> makeStringDeque()   // factory function\n",
    "{\n",
    "  std::deque<std::string> ds;\n",
    "  return ds;\n",
    "}\n",
    "\n",
    "{\n",
    "  \n",
    "  // make copy of 5th element of deque returned\n",
    "  // from makeStringDeque\n",
    "  auto s = authAndAccess11Final(makeStringDeque(), 5);\n",
    "}"
   ]
  },
  {
   "cell_type": "markdown",
   "metadata": {},
   "source": [
    "\n",
    "## Key idea:\n",
    " \n",
    "    In C++14, a seemingly trivial change in the way you write a return\n",
    "    statement can affect the deduced type for a function.\n",
    " "
   ]
  },
  {
   "cell_type": "code",
   "execution_count": null,
   "metadata": {},
   "outputs": [],
   "source": [
    "decltype(auto) f1()\n",
    "{\n",
    "  int x = 0;\n",
    "  // ...\n",
    "  return x;  // decltype(x) is int, so f1 returns int\n",
    "}\n",
    "\n",
    "decltype(auto) f2()\n",
    "{\n",
    "  int x = 0;\n",
    "  // ...\n",
    "  return (x);  // decltype((x)) is int&, so f2 returns int&\n",
    "}"
   ]
  },
  {
   "cell_type": "markdown",
   "metadata": {},
   "source": [
    "\n",
    "## Key idea:\n",
    " \n",
    "  For lvalue expressions more complicated than names, decltype ensures that the\n",
    "  type reported is always an lvalue reference.  That is, if an lvalue\n",
    "  expression other than a name has type T, decltype reports that type as T&.\n",
    " "
   ]
  },
  {
   "cell_type": "code",
   "execution_count": null,
   "metadata": {},
   "outputs": [],
   "source": [
    "{\n",
    "  int x = 0;  // decltype(x) is int\n",
    "              // decltype((x)) is int&\n",
    "}"
   ]
  },
  {
   "cell_type": "markdown",
   "metadata": {},
   "source": [
    "                               Things to Remember\n",
    "                               ------------------\n",
    "\n",
    "* decltype almost always yields the type of a variable or expression without any\n",
    "  modifications.\n",
    "\n",
    "* For lvalue expressions of type T other than names, decltype always reports a\n",
    "  type of T&.\n",
    "\n",
    "* C++14 supports decltype(auto), which, like auto, deduces a type from its\n",
    "  initializer, but it performs the type deduction using the decltype rules.\n",
    "\n"
   ]
  },
  {
   "cell_type": "code",
   "execution_count": null,
   "metadata": {},
   "outputs": [],
   "source": []
  }
 ],
 "metadata": {
  "kernelspec": {
   "display_name": "C++14",
   "language": "C++14",
   "name": "xcpp14"
  },
  "language_info": {
   "codemirror_mode": "text/x-c++src",
   "file_extension": ".cpp",
   "mimetype": "text/x-c++src",
   "name": "c++",
   "version": "14"
  }
 },
 "nbformat": 4,
 "nbformat_minor": 4
}
