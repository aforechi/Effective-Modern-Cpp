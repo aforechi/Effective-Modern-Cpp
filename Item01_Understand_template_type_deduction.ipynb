{
 "cells": [
  {
   "cell_type": "markdown",
   "metadata": {},
   "source": [
    "# Case 1: ParamType is a Reference or Pointer, but not a Universal Reference\n",
    "\n",
    "Meyers, Scott. Effective Modern C++ . O'Reilly Media. Kindle Edition. "
   ]
  },
  {
   "cell_type": "markdown",
   "metadata": {},
   "source": [
    "##  Key idea: pinch of pseudocode\n",
    " \n",
    "    If the function template looks like this:\n",
    " \n",
    "      template <typename T>\n",
    "      void f(ParamType param);\n",
    " \n",
    "    then two types are deduced: one for T and one for ParamType.  These types\n",
    "    are frequently different, because ParamType often contains adornments,\n",
    "    e.g., const- or reference qualifiers."
   ]
  },
  {
   "cell_type": "code",
   "execution_count": 1,
   "metadata": {},
   "outputs": [],
   "source": [
    "#pragma cling add_include_path(\"/usr/local/include\")\n",
    "#include <boost/type_index.hpp>\n",
    "#include <iostream>"
   ]
  },
  {
   "cell_type": "code",
   "execution_count": 2,
   "metadata": {},
   "outputs": [],
   "source": [
    "template<typename T>\n",
    "void f(const T& param) {\n",
    "    using std::cout;\n",
    "    using boost::typeindex::type_id_with_cvr;\n",
    "\n",
    "    cout << \"T     = \" << type_id_with_cvr<T>().pretty_name() << '\\n';     \n",
    "    cout << \"param = \" << type_id_with_cvr<decltype(param)>().pretty_name() << '\\n';\n",
    "}  // ParamType is const T&"
   ]
  },
  {
   "cell_type": "code",
   "execution_count": 3,
   "metadata": {},
   "outputs": [
    {
     "name": "stdout",
     "output_type": "stream",
     "text": [
      "T     = int\n",
      "param = int const&\n"
     ]
    }
   ],
   "source": [
    "{\n",
    "  int x = 0;\n",
    "  f(x);                    // call f with an int\n",
    "}"
   ]
  },
  {
   "cell_type": "markdown",
   "metadata": {},
   "source": [
    "##  Key idea: non const\n",
    " \n",
    "    Considering the general form for templates and calls to it:\n",
    " \n",
    "      template <typename T>\n",
    "      void f(ParamType param);\n",
    " \n",
    "      f(expr);                // deduce T and ParamType from expr\n",
    " \n",
    "    then, in the simplest case when ParamType is a reference type or a pointer\n",
    "    type, but not a universal reference, type deduction works like this:\n",
    " \n",
    "    1. If expr's type is a reference, ignore the reference part.\n",
    "    2. Then pattern-match expr's type against ParamType to determine T."
   ]
  },
  {
   "cell_type": "code",
   "execution_count": 4,
   "metadata": {},
   "outputs": [],
   "source": [
    "template<typename T>\n",
    "void f(T& param) {\n",
    "    using std::cout;\n",
    "    using boost::typeindex::type_id_with_cvr;\n",
    "\n",
    "    cout << \"T     = \" << type_id_with_cvr<T>().pretty_name() << '\\n';     \n",
    "    cout << \"param = \" << type_id_with_cvr<decltype(param)>().pretty_name() << '\\n';\n",
    "}   // param is a reference"
   ]
  },
  {
   "cell_type": "code",
   "execution_count": 5,
   "metadata": {},
   "outputs": [
    {
     "name": "stdout",
     "output_type": "stream",
     "text": [
      "T     = int\n",
      "param = int&\n",
      "T     = int\n",
      "param = int const&\n",
      "T     = int\n",
      "param = int const&\n"
     ]
    }
   ],
   "source": [
    "{    \n",
    "  int x = 27;         // x is an int\n",
    "  const int cx = x;   // cx is a const int\n",
    "  const int& rx = x;  // rx is a reference to x as a const int\n",
    "\n",
    "  f(x);               // T is int, param's type is int&\n",
    "\n",
    "  f(cx);              // T is const int,\n",
    "                      // param's type is const int&\n",
    "\n",
    "  f(rx);              // T is const int,\n",
    "                      // param's type is const int&\n",
    "}"
   ]
  },
  {
   "cell_type": "markdown",
   "metadata": {},
   "source": [
    "##  Key idea: const\n",
    " \n",
    "    Considering the general form for templates and calls to it:\n",
    " \n",
    "      template <typename T>\n",
    "      void f(ParamType param);\n",
    " \n",
    "      f(expr);                // deduce T and ParamType from expr\n",
    " \n",
    "    then, in the simplest case when ParamType is a pointer type or a reference\n",
    "    type, but not a universal reference, type deduction works like this:\n",
    " \n",
    "    1. If expr's type is a reference, ignore the reference part.\n",
    "    2. Then pattern-match expr's type against ParamType to determine T.\n",
    " \n",
    "    If the type of f's parameter is changed from T& to const T&, the constness\n",
    "    of cx and rx continues to be respected, but because we're now assuming that\n",
    "    param is a reference-to-const, there's no longer a need for const to be\n",
    "    deduced as part of T."
   ]
  },
  {
   "cell_type": "code",
   "execution_count": 6,
   "metadata": {},
   "outputs": [],
   "source": [
    "template<typename T>\n",
    "void f1(const T& param) {\n",
    "    using std::cout;\n",
    "    using boost::typeindex::type_id_with_cvr;\n",
    "\n",
    "    cout << \"T     = \" << type_id_with_cvr<T>().pretty_name() << '\\n';     \n",
    "    cout << \"param = \" << type_id_with_cvr<decltype(param)>().pretty_name() << '\\n';\n",
    "\n",
    "}  // param is now a ref-to-const"
   ]
  },
  {
   "cell_type": "code",
   "execution_count": 7,
   "metadata": {},
   "outputs": [
    {
     "name": "stdout",
     "output_type": "stream",
     "text": [
      "T     = int\n",
      "param = int const&\n",
      "T     = int\n",
      "param = int const&\n",
      "T     = int\n",
      "param = int const&\n"
     ]
    }
   ],
   "source": [
    "{    \n",
    "  int x = 27;              // as before\n",
    "  const int cx = x;        // as before\n",
    "  const int& rx = x;       // as before\n",
    "\n",
    "  f1(x);                    // T is int, param's type is const int&\n",
    "\n",
    "  f1(cx);                   // T is int, param's type is const int&\n",
    "\n",
    "  f1(rx);                   // T is int, param's type is const int&\n",
    "}"
   ]
  },
  {
   "cell_type": "markdown",
   "metadata": {},
   "source": [
    "##  Key idea: pointer\n",
    " \n",
    "    Considering the general form for templates and calls to it:\n",
    " \n",
    "      template <typename T>\n",
    "      void f(ParamType param);\n",
    " \n",
    "      f(expr);                // deduce T and ParamType from expr\n",
    " \n",
    "    then, in the simplest case when ParamType is a pointer type or a reference\n",
    "    type, but not a universal reference, type deduction works like this:\n",
    " \n",
    "    1. If expr's type is a reference, ignore the reference part.\n",
    "    2. Pattern-match expr's type against ParamType to determine T.\n",
    " \n",
    "    If param were a pointer (or a pointer to const) instead of a reference,\n",
    "    things would work essentially the same way:"
   ]
  },
  {
   "cell_type": "code",
   "execution_count": 8,
   "metadata": {},
   "outputs": [],
   "source": [
    "template<typename T>\n",
    "void f2(T* param) {\n",
    "    using std::cout;\n",
    "    using boost::typeindex::type_id_with_cvr;\n",
    "\n",
    "    cout << \"T     = \" << type_id_with_cvr<T>().pretty_name() << '\\n';     \n",
    "    cout << \"param = \" << type_id_with_cvr<decltype(param)>().pretty_name() << '\\n';\n",
    "\n",
    "};      // param is now a pointer"
   ]
  },
  {
   "cell_type": "code",
   "execution_count": 9,
   "metadata": {},
   "outputs": [
    {
     "name": "stdout",
     "output_type": "stream",
     "text": [
      "T     = int\n",
      "param = int*\n",
      "T     = int const\n",
      "param = int const*\n"
     ]
    }
   ],
   "source": [
    "{\n",
    "  int x = 27;            // as before\n",
    "  const int *px = &x;    // px is a ptr to x as a const int\n",
    "\n",
    "  f2(&x);                 // T is int, param's type is int*\n",
    "\n",
    "  f2(px);                 // T is const int, param's type is const int*\n",
    "}"
   ]
  },
  {
   "cell_type": "markdown",
   "metadata": {},
   "source": [
    "# Case 2: ParamType is a Universal Reference\n",
    "\n",
    "Meyers, Scott. Effective Modern C++ . O'Reilly Media. Kindle Edition. "
   ]
  },
  {
   "cell_type": "markdown",
   "metadata": {},
   "source": [
    "##  Key idea: uref\n",
    " \n",
    "    Considering the general form for templates and calls to it:\n",
    " \n",
    "      template <typename T>\n",
    "      void f(ParamType param);\n",
    " \n",
    "      f(expr);                // deduce T and ParamType from expr\n",
    " \n",
    "    then, in the case when ParamType is a universal reference\n",
    "    type, type deduction works like this:\n",
    " \n",
    "    1. If expr is an lvalue, both T and ParamType are deduced to be lvalue\n",
    "      references\n",
    "    2. If expr is an rvalue, the usual type deduction rules apply.\n"
   ]
  },
  {
   "cell_type": "code",
   "execution_count": 10,
   "metadata": {},
   "outputs": [],
   "source": [
    "template<typename T>\n",
    "void f3(T&& param) {\n",
    "    using std::cout;\n",
    "    using boost::typeindex::type_id_with_cvr;\n",
    "\n",
    "    cout << \"T     = \" << type_id_with_cvr<T>().pretty_name() << '\\n';     \n",
    "    cout << \"param = \" << type_id_with_cvr<decltype(param)>().pretty_name() << '\\n';\n",
    "\n",
    "}      // param is now a universal reference"
   ]
  },
  {
   "cell_type": "code",
   "execution_count": 11,
   "metadata": {},
   "outputs": [
    {
     "name": "stdout",
     "output_type": "stream",
     "text": [
      "T     = int&\n",
      "param = int&\n",
      "T     = int const&\n",
      "param = int const&\n",
      "T     = int const&\n",
      "param = int const&\n",
      "T     = int\n",
      "param = int&&\n"
     ]
    }
   ],
   "source": [
    "{\n",
    "  int x = 27;             // as before\n",
    "  const int cx = x;       // as before\n",
    "  const int& rx = x;      // as before\n",
    "\n",
    "  f3(x);                   // x is lvalue, so T is int&,\n",
    "                          // param's type is also int&\n",
    "\n",
    "  f3(cx);                  // cx is lvalue, so T is const int&,\n",
    "                          // param's type is also const int&\n",
    "\n",
    "  f3(rx);                  // rx is lvalue, so T is const int&,\n",
    "                          // param's type is also const int&\n",
    "\n",
    "  f3(27);                  // 27 is rvalue, so T is int,\n",
    "                          // param's type is therefore int&&\n",
    "}"
   ]
  },
  {
   "cell_type": "markdown",
   "metadata": {},
   "source": [
    "# Case 3: ParamType is Neither a Pointer nor a Reference\n",
    "\n",
    "Meyers, Scott. Effective Modern C++ . O'Reilly Media. Kindle Edition. "
   ]
  },
  {
   "cell_type": "markdown",
   "metadata": {},
   "source": [
    "##  Key idea: pass by value\n",
    " \n",
    "    If we're dealing with pass-by-value\n",
    " \n",
    "      template <typename T>\n",
    "      void f(T param);        // param is now passed by value\n",
    " \n",
    "    That means that param will be a copy of whatever is passed in - a\n",
    "    completely new object.  The fact that param will be a new object motivates\n",
    "    the rules that govern how T is deduced from expr:\n",
    " \n",
    "    1. As before, if expr's type is a reference, ignore the reference part.\n",
    " \n",
    "    2. If, after ignoring expr's reference-ness, expr is const, ignore that,\n",
    "       too.  If it's volatile, also ignore that. (volatile objects are uncommon.\n",
    "       They're generally used only for implementing device drivers.)\n"
   ]
  },
  {
   "cell_type": "code",
   "execution_count": 12,
   "metadata": {},
   "outputs": [],
   "source": [
    "template<typename T>\n",
    "void f4(T param) {\n",
    "    using std::cout;\n",
    "    using boost::typeindex::type_id_with_cvr;\n",
    "\n",
    "    cout << \"T     = \" << type_id_with_cvr<T>().pretty_name() << '\\n';     \n",
    "    cout << \"param = \" << type_id_with_cvr<decltype(param)>().pretty_name() << '\\n';\n",
    "\n",
    "}          // param is now passed by value"
   ]
  },
  {
   "cell_type": "code",
   "execution_count": 13,
   "metadata": {},
   "outputs": [
    {
     "name": "stdout",
     "output_type": "stream",
     "text": [
      "T     = int\n",
      "param = int\n",
      "T     = int\n",
      "param = int\n",
      "T     = int\n",
      "param = int\n",
      "T     = char const*\n",
      "param = char const* const&\n"
     ]
    }
   ],
   "source": [
    "{\n",
    "  int x = 27;               // as before\n",
    "  const int cx = x;         // as before\n",
    "  const int& rx = x;        // as before\n",
    "  f4(x);                     // T's and param's types are both int\n",
    "\n",
    "  f4(cx);                    // T's and param's types are again both int\n",
    "\n",
    "  f4(rx);                    // T's and param's types are still both int\n",
    "\n",
    "\n",
    "  const char* const ptr =   // ptr is const pointer to const object\n",
    "    \"Fun with pointers\";\n",
    "\n",
    "  f(ptr);                   // pass arg of type const char * const\n",
    "}"
   ]
  },
  {
   "cell_type": "markdown",
   "metadata": {},
   "source": [
    "# Array Arguments\n",
    "\n",
    "Meyers, Scott. Effective Modern C++ . O'Reilly Media. Kindle Edition. "
   ]
  },
  {
   "cell_type": "markdown",
   "metadata": {},
   "source": [
    "##  Key idea: array to pointer decay rule\n",
    " \n",
    "    In many contexts, an array decays into a pointer to its first element.\n",
    " "
   ]
  },
  {
   "cell_type": "code",
   "execution_count": 14,
   "metadata": {},
   "outputs": [],
   "source": [
    "{\n",
    "    const char name[] = \"J. P. Briggs\";  // name's type is\n",
    "                                         // const char[13]\n",
    "\n",
    "    const char * ptrToName = name;       // array decays to pointer\n",
    "}"
   ]
  },
  {
   "cell_type": "markdown",
   "metadata": {},
   "source": [
    "##  Key idea: arrays by value\n",
    " \n",
    "    Because array parameter declarations are treated as if they were pointer\n",
    "    parameters, the type of an array that's passed to a template function by\n",
    "    value is deduced to be a pointer type.\n"
   ]
  },
  {
   "cell_type": "code",
   "execution_count": 15,
   "metadata": {},
   "outputs": [],
   "source": [
    "template<typename T>\n",
    "void f5(T param) {\n",
    "    using std::cout;\n",
    "    using boost::typeindex::type_id_with_cvr;\n",
    "\n",
    "    cout << \"T     = \" << type_id_with_cvr<T>().pretty_name() << '\\n';     \n",
    "    cout << \"param = \" << type_id_with_cvr<decltype(param)>().pretty_name() << '\\n';\n",
    "\n",
    "}  // template with by-value parameter"
   ]
  },
  {
   "cell_type": "code",
   "execution_count": 16,
   "metadata": {},
   "outputs": [
    {
     "name": "stdout",
     "output_type": "stream",
     "text": [
      "T     = char const*\n",
      "param = char const*\n"
     ]
    }
   ],
   "source": [
    "{\n",
    "    const char name[] = \"J. P. Briggs\";  // name's type is\n",
    "                                         // const char[13]\n",
    "\n",
    "    f5(name);                   // what types are deduced for T and param?\n",
    "                               // -> name is array, but T deduced as const char*\n",
    "}"
   ]
  },
  {
   "cell_type": "markdown",
   "metadata": {},
   "source": [
    "## Key idea: array and pointer parameter equivalence"
   ]
  },
  {
   "cell_type": "code",
   "execution_count": 17,
   "metadata": {},
   "outputs": [],
   "source": [
    "void myFunc1(int param[]) {}"
   ]
  },
  {
   "cell_type": "code",
   "execution_count": 18,
   "metadata": {},
   "outputs": [],
   "source": [
    "void myFunc2(int* param) {}   // same function as above"
   ]
  },
  {
   "cell_type": "markdown",
   "metadata": {},
   "source": [
    "##  Key idea: arrays by reference\n",
    " \n",
    "    Although functions can't declare parameters that are truly arrays, they can\n",
    "    declare parameters that are references to arrays.\n",
    " \n",
    "    The type deduced for T is the actual type of the array!  That type includes\n",
    "    the size of the array, so in this example T is deduced to be const\n",
    "    char[13], and the type of f's parameter (a reference to this array) is\n",
    "    const char (&)[13]."
   ]
  },
  {
   "cell_type": "code",
   "execution_count": 19,
   "metadata": {},
   "outputs": [],
   "source": [
    "template<typename T>\n",
    "void f6(T& param) {\n",
    "    using std::cout;\n",
    "    using boost::typeindex::type_id_with_cvr;\n",
    "\n",
    "    cout << \"T     = \" << type_id_with_cvr<T>().pretty_name() << '\\n';     \n",
    "    cout << \"param = \" << type_id_with_cvr<decltype(param)>().pretty_name() << '\\n';\n",
    "\n",
    "}  // template with by-reference parameter"
   ]
  },
  {
   "cell_type": "code",
   "execution_count": 20,
   "metadata": {},
   "outputs": [
    {
     "name": "stdout",
     "output_type": "stream",
     "text": [
      "T     = char const [13]\n",
      "param = char const (&) [13]\n"
     ]
    }
   ],
   "source": [
    "{\n",
    "    const char name[] = \"J. P. Briggs\";  // name's type is\n",
    "                                         // const char[13]\n",
    "\n",
    "    f6(name);                   // pass array to f\n",
    "}"
   ]
  },
  {
   "cell_type": "markdown",
   "metadata": {},
   "source": [
    "##  Key idea: deduce number of array elements\n",
    " \n",
    "    The ability to declare references to arrays enables creation of a template\n",
    "    to deduce the number of elements that an array contains."
   ]
  },
  {
   "cell_type": "code",
   "execution_count": 21,
   "metadata": {},
   "outputs": [],
   "source": [
    "#include <array>\n",
    "#include <cstddef>\n",
    "\n",
    "// return size of an array as a compile-time constant. (The\n",
    "// array parameter has no name, because we care only about\n",
    "// the number of elements it contains.)\n",
    "template<typename T, std::size_t N>                 // see info\n",
    "constexpr std::size_t arraySize(T (&)[N]) noexcept  // below on\n",
    "{                                                   // constexpr \n",
    "    return N;                                       // and\n",
    "}                                                   // noexcept\n",
    "\n",
    "\n",
    "int keyVals[] = { 1, 3, 7, 9, 11, 22, 35 };  // keyVals has\n",
    "                                             // 7 elements\n",
    "\n",
    "int mappedVals1[arraySize(keyVals)];         // so does\n",
    "                                             // mappedVals\n",
    "\n",
    "std::array<int, arraySize(keyVals)> mappedVals2;  // mappedVals'\n",
    "                                                  // size is 7"
   ]
  },
  {
   "cell_type": "markdown",
   "metadata": {},
   "source": [
    "## Function Arguments\n",
    "\n",
    "Meyers, Scott. Effective Modern C++ . O'Reilly Media. Kindle Edition. "
   ]
  },
  {
   "cell_type": "markdown",
   "metadata": {},
   "source": [
    "##  Key-idea: function to pointer decay rule\n",
    " \n",
    "    Function types can decay into pointers, too, and everything regarding type\n",
    "    deduction and arrays applies to type deduction for functions and their decay\n",
    "    into function pointers."
   ]
  },
  {
   "cell_type": "code",
   "execution_count": 22,
   "metadata": {},
   "outputs": [],
   "source": [
    "void someFunc(int, double){}  // someFunc is a function;\n",
    "                              // type is void(int, double)"
   ]
  },
  {
   "cell_type": "code",
   "execution_count": 23,
   "metadata": {},
   "outputs": [],
   "source": [
    "template<typename T>\n",
    "void g1(T param) {\n",
    "    using std::cout;\n",
    "    using boost::typeindex::type_id_with_cvr;\n",
    "\n",
    "    cout << \"T     = \" << type_id_with_cvr<T>().pretty_name() << '\\n';     \n",
    "    cout << \"param = \" << type_id_with_cvr<decltype(param)>().pretty_name() << '\\n';\n",
    "\n",
    "}           // in f1, param passed by value"
   ]
  },
  {
   "cell_type": "code",
   "execution_count": 24,
   "metadata": {},
   "outputs": [],
   "source": [
    "template<typename T>\n",
    "void g2(T& param) {\n",
    "    using std::cout;\n",
    "    using boost::typeindex::type_id_with_cvr;\n",
    "\n",
    "    cout << \"T     = \" << type_id_with_cvr<T>().pretty_name() << '\\n';     \n",
    "    cout << \"param = \" << type_id_with_cvr<decltype(param)>().pretty_name() << '\\n';\n",
    "\n",
    "}          // in f2, param passed by ref"
   ]
  },
  {
   "cell_type": "code",
   "execution_count": 25,
   "metadata": {},
   "outputs": [
    {
     "name": "stdout",
     "output_type": "stream",
     "text": [
      "T     = void (*)(int, double)\n",
      "param = void (*)(int, double)\n",
      "T     = void (int, double)\n",
      "param = void (&)(int, double)\n"
     ]
    }
   ],
   "source": [
    "{\n",
    "  g1(someFunc);               // param deduced as ptr-to-func;\n",
    "                              // type is void (*)(int, double)\n",
    "\n",
    "  g2(someFunc);               // param deduced as ref-to-func;\n",
    "                              // type is void (&)(int, double)\n",
    "}"
   ]
  },
  {
   "cell_type": "markdown",
   "metadata": {},
   "source": [
    "                               Things to Remember\n",
    "                               ------------------\n",
    "\n",
    "* During template type deduction, arguments that are references are treated as\n",
    "  non-references, i.e., their reference-ness is ignored.\n",
    "\n",
    "* When deducing types for universal reference parameters, lvalue arguments get\n",
    "  special treatment.\n",
    "\n",
    "* When deducing types for by-value parameters, const and/or volatile arguments\n",
    "  are treated as non-const and non-volatile.\n",
    "\n",
    "* During template type deduction, arguments that are array or function names\n",
    "  decay to pointers, unless they're used to initialize references.\n",
    "\n"
   ]
  },
  {
   "cell_type": "code",
   "execution_count": null,
   "metadata": {},
   "outputs": [],
   "source": []
  }
 ],
 "metadata": {
  "kernelspec": {
   "display_name": "C++11",
   "language": "C++11",
   "name": "xcpp11"
  },
  "language_info": {
   "codemirror_mode": "text/x-c++src",
   "file_extension": ".cpp",
   "mimetype": "text/x-c++src",
   "name": "c++",
   "version": "11"
  }
 },
 "nbformat": 4,
 "nbformat_minor": 4
}
