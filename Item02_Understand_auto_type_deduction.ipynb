{
 "cells": [
  {
   "cell_type": "markdown",
   "metadata": {},
   "source": [
    "# Case 2: Understand auto type deduction.\n",
    "\n",
    "Meyers, Scott. Effective Modern C++ . O'Reilly Media. Kindle Edition. "
   ]
  },
  {
   "cell_type": "markdown",
   "metadata": {},
   "source": [
    "##  Key idea:\n",
    " \n",
    "    Deducing types for auto is the same as deducing types for templates (with only one curious exception).\n"
   ]
  },
  {
   "cell_type": "code",
   "execution_count": 1,
   "metadata": {},
   "outputs": [],
   "source": [
    "#include <boost/type_index.hpp>\n",
    "#include <iostream>"
   ]
  },
  {
   "cell_type": "code",
   "execution_count": 2,
   "metadata": {},
   "outputs": [],
   "source": [
    "template<typename T>                 // conceptual template for\n",
    "void func_for_x(T param) {\n",
    "    using std::cout;\n",
    "    using boost::typeindex::type_id_with_cvr;\n",
    "\n",
    "    cout << \"T     = \" << type_id_with_cvr<T>().pretty_name() << '\\n';     \n",
    "    cout << \"param = \" << type_id_with_cvr<decltype(param)>().pretty_name() << '\\n';\n",
    "}          // deducing x's type\n",
    "\n",
    "template<typename T>                 // conceptual template for\n",
    "void func_for_cx(const T param) {\n",
    "    using std::cout;\n",
    "    using boost::typeindex::type_id_with_cvr;\n",
    "\n",
    "    cout << \"T     = \" << type_id_with_cvr<T>().pretty_name() << '\\n';     \n",
    "    cout << \"param = \" << type_id_with_cvr<decltype(param)>().pretty_name() << '\\n';\n",
    "}   // deducing cx's type\n",
    "\n",
    "template<typename T>                 // conceptual template for\n",
    "void func_for_rx(const T& param) {\n",
    "    using std::cout;\n",
    "    using boost::typeindex::type_id_with_cvr;\n",
    "\n",
    "    cout << \"T     = \" << type_id_with_cvr<T>().pretty_name() << '\\n';     \n",
    "    cout << \"param = \" << type_id_with_cvr<decltype(param)>().pretty_name() << '\\n';\n",
    "}  // deducing rx's type\n",
    "                                  \n",
    "void someFunc(int, double) {}  // someFunc is a function;\n",
    "                               // type is void(int, double)"
   ]
  },
  {
   "cell_type": "code",
   "execution_count": 3,
   "metadata": {},
   "outputs": [
    {
     "name": "stdout",
     "output_type": "stream",
     "text": [
      "T     = int\n",
      "param = int\n",
      "T     = int\n",
      "param = int const\n",
      "T     = int\n",
      "param = int const&\n"
     ]
    }
   ],
   "source": [
    "{\n",
    "  auto x = 27;                // case 3 (x is neither ptr nor reference)\n",
    "  \n",
    "  const auto cx = x;          // case 3 (cx isn't either)\n",
    "\n",
    "  const auto& rx = x;         // case 1 (rx is a non-universal ref.)\n",
    "\n",
    "  auto&& uref1 = x;           // x is int and lvalue,\n",
    "                              // so uref1's type is int&\n",
    "\n",
    "  auto&& uref2 = cx;          // cx is const int and lvalue\n",
    "                              // so uref2's type is const int&\n",
    "\n",
    "  auto&& uref3 = 27;          // 27 is int and rvalue,\n",
    "                              // so uref3's type is int&&\n",
    "\n",
    "\n",
    "  func_for_x(27);             // conceptual call: param's\n",
    "                              // deduced type is x's type\n",
    "\n",
    "  func_for_cx(x);             // conceptual call: param's\n",
    "                              // deduced type is cx's type\n",
    "\n",
    "  func_for_rx(x);             // conceptual call: param's\n",
    "                              // deduced type is rx's type\n",
    "\n",
    "  const char name[] =         // name's type is const char[13]\n",
    "    \"R. N. Briggs\";\n",
    "\n",
    "  auto arr1 = name;           // arr1's type is const char*\n",
    "\n",
    "  auto& arr2 = name;          // arr2's type is\n",
    "                              // const char (&)[13]\n",
    "\n",
    "  auto func1 = someFunc;      // func1's type is\n",
    "                              // void (*)(int, double)\n",
    "\n",
    "  auto& func2 = someFunc;     // func2's type is\n",
    "                              // void (&)(int, double)\n",
    "\n",
    "}"
   ]
  },
  {
   "cell_type": "markdown",
   "metadata": {},
   "source": [
    "##  Key idea:\n",
    " \n",
    "    The treatment of braced initializers is the only way in which auto type\n",
    "    deduction and template type deduction differ.\n"
   ]
  },
  {
   "cell_type": "code",
   "execution_count": 4,
   "metadata": {},
   "outputs": [],
   "source": [
    "#include <initializer_list>\n",
    "\n",
    "template<typename T>  // template with parameter\n",
    "void f(T param) {\n",
    "    using std::cout;\n",
    "    using boost::typeindex::type_id_with_cvr;\n",
    "\n",
    "    cout << \"T     = \" << type_id_with_cvr<T>().pretty_name() << '\\n';     \n",
    "    cout << \"param = \" << type_id_with_cvr<decltype(param)>().pretty_name() << '\\n';\n",
    "}    // declaration equivalent to\n",
    "                      // x's declaration\n",
    "\n",
    "template<typename T>\n",
    "void f2(std::initializer_list<T> param) {\n",
    "    using std::cout;\n",
    "    using boost::typeindex::type_id_with_cvr;\n",
    "\n",
    "    cout << \"T     = \" << type_id_with_cvr<T>().pretty_name() << '\\n';     \n",
    "    cout << \"param = \" << type_id_with_cvr<decltype(param)>().pretty_name() << '\\n';\n",
    "}"
   ]
  },
  {
   "cell_type": "code",
   "execution_count": 5,
   "metadata": {},
   "outputs": [],
   "source": [
    "{\n",
    "    int x1 = 27;\n",
    "    int x2(27);\n",
    "    int x3 = {27};\n",
    "    int x4{27};\n",
    "}"
   ]
  },
  {
   "cell_type": "code",
   "execution_count": 6,
   "metadata": {},
   "outputs": [],
   "source": [
    "{\n",
    "    auto x1 = 27;    // type is int, value is 27\n",
    "    auto x2(27);     // ditto\n",
    "    auto x3 = {27};  // type is std::initializer_list<int>,\n",
    "                     // value is {27}\n",
    "    auto x4{27};     // ditto\n",
    "\n",
    "    //auto x5 = {1, 2, 3.0};  // error! can't deduce T for\n",
    "    //                        // std::initializer_list<T>\n",
    "}"
   ]
  },
  {
   "cell_type": "code",
   "execution_count": 11,
   "metadata": {},
   "outputs": [
    {
     "name": "stdout",
     "output_type": "stream",
     "text": [
      "T     = int\n",
      "param = std::initializer_list<int>\n"
     ]
    }
   ],
   "source": [
    "{\n",
    "    auto x = { 11, 23, 9 };  // x's type is\n",
    "                             // std::initializer_list<int>\n",
    "\n",
    "    //f({ 11, 23, 9 });        // error! can't deduce type for T\n",
    "\n",
    "    f2({ 11, 23, 9 });        // T deduced as int, and initList's\n",
    "                              // type is std::initializer_list<int>\n",
    "}"
   ]
  },
  {
   "cell_type": "markdown",
   "metadata": {},
   "source": [
    "##  Key ideas:\n",
    " \n",
    "    1. A function with an auto return type that returns a braced initializer list won't compile.\n",
    " \n",
    "    2. When auto is used in a parameter type specification in a C++14 lambda expression, things won't compile.\n"
   ]
  },
  {
   "cell_type": "code",
   "execution_count": 8,
   "metadata": {},
   "outputs": [],
   "source": [
    "#include <vector>\n",
    "\n",
    "auto createInitList()\n",
    "{\n",
    "  //return {1, 2, 3};    // error: can't deduce type\n",
    "  //                     // for {1, 2, 3}\n",
    "}"
   ]
  },
  {
   "cell_type": "code",
   "execution_count": 9,
   "metadata": {},
   "outputs": [],
   "source": [
    "{\n",
    "  std::vector<int> v;\n",
    "\n",
    "  auto resetV =\n",
    "    [&v](const auto& newValue) { v = newValue; };  // C++14\n",
    "\n",
    "  //resetV( {1, 2, 3} );  // error! can't deduce type\n",
    "  //                      // for { 1, 2, 3 }\n",
    "}"
   ]
  },
  {
   "cell_type": "markdown",
   "metadata": {},
   "source": [
    "                               Things to Remember\n",
    "                               ------------------\n",
    "\n",
    "* auto type deduction is usually the same as template type deduction, but auto\n",
    "  type deduction assumes that a braced initializer represents a\n",
    "  std::initializer_list, and template type deduction doesn't.\n",
    "\n",
    "* auto in a function return type or a lambda parameter implies template type\n",
    "  deduction, not auto type deduction.\n",
    "\n"
   ]
  },
  {
   "cell_type": "code",
   "execution_count": null,
   "metadata": {},
   "outputs": [],
   "source": []
  }
 ],
 "metadata": {
  "kernelspec": {
   "display_name": "C++14",
   "language": "C++14",
   "name": "xcpp14"
  },
  "language_info": {
   "codemirror_mode": "text/x-c++src",
   "file_extension": ".cpp",
   "mimetype": "text/x-c++src",
   "name": "c++",
   "version": "14"
  }
 },
 "nbformat": 4,
 "nbformat_minor": 4
}
